{
 "cells": [
  {
   "cell_type": "raw",
   "id": "ba7c77fc",
   "metadata": {},
   "source": [
    "1. Write a Python program to find sum of elements in list?"
   ]
  },
  {
   "cell_type": "code",
   "execution_count": 1,
   "id": "aa372110",
   "metadata": {},
   "outputs": [
    {
     "name": "stdout",
     "output_type": "stream",
     "text": [
      "Enter the No of Entries in a list: 12\n",
      "Enter a element: 10\n",
      "Enter a element: 22\n",
      "Enter a element: 33\n",
      "Enter a element: 44\n",
      "Enter a element: 5\n",
      "Enter a element: 66\n",
      "Enter a element: 34\n",
      "Enter a element: 23\n",
      "Enter a element: 78\n",
      "Enter a element: 3\n",
      "Enter a element: 6\n",
      "Enter a element: 7\n",
      "sum of Elements: 331\n"
     ]
    }
   ],
   "source": [
    "def sumofList():\n",
    "    in_ele = int(input('Enter the No of Entries in a list: '))\n",
    "    in_list = []\n",
    "    for itr in range (in_ele):\n",
    "        in_list.append(int(input('Enter a element: ')))\n",
    "    print(f'sum of Elements: {sum(in_list)}')\n",
    "\n",
    "sumofList()"
   ]
  },
  {
   "cell_type": "code",
   "execution_count": null,
   "id": "5c8a5db9",
   "metadata": {},
   "outputs": [],
   "source": []
  },
  {
   "cell_type": "code",
   "execution_count": null,
   "id": "9d2983e8",
   "metadata": {},
   "outputs": [],
   "source": []
  },
  {
   "cell_type": "raw",
   "id": "bd1b5b9f",
   "metadata": {},
   "source": [
    "2. Write a Python program to Multiply all numbers in the list?"
   ]
  },
  {
   "cell_type": "code",
   "execution_count": 2,
   "id": "81109ed3",
   "metadata": {},
   "outputs": [
    {
     "name": "stdout",
     "output_type": "stream",
     "text": [
      "Enter the No of Enteries in a list: 5\n",
      "Enter a element: 1\n",
      "Enter a element: 2\n",
      "Enter a element: 4\n",
      "Enter a element: 3\n",
      "Enter a element: 5\n",
      "120\n"
     ]
    }
   ],
   "source": [
    "def mulofList():\n",
    "    in_ele = int(input('Enter the No of Enteries in a list: '))\n",
    "    in_list = []\n",
    "    mul = 1\n",
    "    for itr in range (in_ele):\n",
    "        in_list.append(int(input('Enter a element: ')))\n",
    "    for ele in in_list:\n",
    "        mul = mul *ele\n",
    "    print(mul)\n",
    "    \n",
    "mulofList()"
   ]
  },
  {
   "cell_type": "code",
   "execution_count": null,
   "id": "446d03a5",
   "metadata": {},
   "outputs": [],
   "source": []
  },
  {
   "cell_type": "code",
   "execution_count": null,
   "id": "fdc55c1e",
   "metadata": {},
   "outputs": [],
   "source": []
  },
  {
   "cell_type": "raw",
   "id": "566c4905",
   "metadata": {},
   "source": [
    "3. Write a Python program to find smallest number in a list?"
   ]
  },
  {
   "cell_type": "code",
   "execution_count": 3,
   "id": "82cb95cf",
   "metadata": {},
   "outputs": [
    {
     "name": "stdout",
     "output_type": "stream",
     "text": [
      "Enter the No of elements in a list: 5\n",
      "Enter a Element: 12\n",
      "Enter a Element: 45\n",
      "Enter a Element: 4\n",
      "Enter a Element: 23\n",
      "Enter a Element: 4\n",
      "The Smallest Element in [12, 45, 4, 23, 4]is 4\n"
     ]
    }
   ],
   "source": [
    "def smallEleInList():\n",
    "    in_ele = int(input('Enter the No of elements in a list: '))\n",
    "    in_list = []\n",
    "    for ele in range(in_ele):\n",
    "        in_list.append(int(input('Enter a Element: ')))\n",
    "    print(f'The Smallest Element in {in_list}is {sorted(in_list)[0]}')\n",
    "smallEleInList()"
   ]
  },
  {
   "cell_type": "code",
   "execution_count": null,
   "id": "55989a42",
   "metadata": {},
   "outputs": [],
   "source": []
  },
  {
   "cell_type": "code",
   "execution_count": null,
   "id": "f18fac92",
   "metadata": {},
   "outputs": [],
   "source": []
  },
  {
   "cell_type": "raw",
   "id": "70f4250f",
   "metadata": {},
   "source": [
    "4. Write a Python program to find largest number in a list?"
   ]
  },
  {
   "cell_type": "code",
   "execution_count": 5,
   "id": "12a540b0",
   "metadata": {},
   "outputs": [
    {
     "name": "stdout",
     "output_type": "stream",
     "text": [
      "Enter the No of elements in a list: 5\n",
      "Enter a Element: 234\n",
      "Enter a Element: 4\n",
      "Enter a Element: 6\n",
      "Enter a Element: 89\n",
      "Enter a Element: 67\n",
      "The Largest Element in [234, 4, 6, 89, 67]is 234\n"
     ]
    }
   ],
   "source": [
    "def largestEleInList():\n",
    "    in_ele = int(input('Enter the No of elements in a list: '))\n",
    "    in_list = []\n",
    "    for ele in range(in_ele):\n",
    "        in_list.append(int(input('Enter a Element: ')))\n",
    "    print(f'The Largest Element in {in_list}is {sorted(in_list,reverse=True)[0]}')\n",
    "largestEleInList()"
   ]
  },
  {
   "cell_type": "code",
   "execution_count": null,
   "id": "32a35d45",
   "metadata": {},
   "outputs": [],
   "source": []
  },
  {
   "cell_type": "code",
   "execution_count": null,
   "id": "389aa014",
   "metadata": {},
   "outputs": [],
   "source": []
  },
  {
   "cell_type": "raw",
   "id": "9a7b4132",
   "metadata": {},
   "source": [
    "5. Write a Python program to find second largest number in a list?"
   ]
  },
  {
   "cell_type": "code",
   "execution_count": 6,
   "id": "377ace44",
   "metadata": {},
   "outputs": [
    {
     "name": "stdout",
     "output_type": "stream",
     "text": [
      "Enter the No of elements in a list: 6\n",
      "Enter a Element: 343\n",
      "Enter a Element: 234\n",
      "Enter a Element: 5\n",
      "Enter a Element: 67\n",
      "Enter a Element: 89\n",
      "Enter a Element: 23\n",
      "The Second Largest Element in [343, 234, 5, 67, 89, 23]is 234\n"
     ]
    }
   ],
   "source": [
    "def secondlargestEleInList():\n",
    "    in_ele = int(input('Enter the No of elements in a list: '))\n",
    "    in_list = []\n",
    "    for ele in range(in_ele):\n",
    "        in_list.append(int(input('Enter a Element: ')))\n",
    "    print(f'The Second Largest Element in {in_list}is {sorted(in_list,reverse=True)[1]}')\n",
    "secondlargestEleInList()"
   ]
  },
  {
   "cell_type": "code",
   "execution_count": null,
   "id": "0857468b",
   "metadata": {},
   "outputs": [],
   "source": []
  },
  {
   "cell_type": "code",
   "execution_count": null,
   "id": "3385b1d9",
   "metadata": {},
   "outputs": [],
   "source": []
  },
  {
   "cell_type": "raw",
   "id": "c24a4606",
   "metadata": {},
   "source": [
    "6. Write a Python program to find N largest elements from a list?"
   ]
  },
  {
   "cell_type": "code",
   "execution_count": 7,
   "id": "f9f36991",
   "metadata": {},
   "outputs": [
    {
     "name": "stdout",
     "output_type": "stream",
     "text": [
      "Enter the No of elements in a list: 4\n",
      "Enter a Element: 5\n",
      "Enter a Element: 3\n",
      "Enter a Element: 8\n",
      "Enter a Element: 2\n",
      "The Largest Element in [5, 3, 8, 2]is 8\n"
     ]
    }
   ],
   "source": [
    "def nlargestEleInList(v):\n",
    "    in_ele = int(input('Enter the No of elements in a list: '))\n",
    "    in_list = []\n",
    "    for ele in range(in_ele):\n",
    "        in_list.append(int(input('Enter a Element: ')))\n",
    "    print(f'The {v} Largest Element in {in_list}is {sorted(in_list,reverse=True)[0:v]}')\n",
    "largestEleInList()"
   ]
  },
  {
   "cell_type": "code",
   "execution_count": null,
   "id": "6d0024e4",
   "metadata": {},
   "outputs": [],
   "source": []
  },
  {
   "cell_type": "code",
   "execution_count": null,
   "id": "eb5aa24f",
   "metadata": {},
   "outputs": [],
   "source": []
  },
  {
   "cell_type": "raw",
   "id": "de3b4bd7",
   "metadata": {},
   "source": [
    "7. Write a Python program to print even numbers in a list?"
   ]
  },
  {
   "cell_type": "code",
   "execution_count": 12,
   "id": "517d0bf1",
   "metadata": {},
   "outputs": [
    {
     "name": "stdout",
     "output_type": "stream",
     "text": [
      "Enter the No of elements in a list: 4\n",
      "enter a element: 22\n",
      "enter a element: 23\n",
      "enter a element: 42\n",
      "enter a element: 33\n",
      "The Even Elements in [22, 23, 42, 33] are [22, 42]\n"
     ]
    }
   ],
   "source": [
    "def evenNoInList():\n",
    "    in_ele = int(input('Enter the No of elements in a list: '))\n",
    "    in_list = []\n",
    "    even_list = []\n",
    "    for ele in range (in_ele):\n",
    "        in_list.append(int(input('enter a element: ')))\n",
    "    for ele in in_list:\n",
    "        if ele % 2 == 0:\n",
    "            even_list.append(ele)\n",
    "    print(f'The Even Elements in {in_list} are {even_list}')\n",
    "    \n",
    "evenNoInList()"
   ]
  },
  {
   "cell_type": "code",
   "execution_count": null,
   "id": "9fac32be",
   "metadata": {},
   "outputs": [],
   "source": []
  },
  {
   "cell_type": "code",
   "execution_count": null,
   "id": "b34979ca",
   "metadata": {},
   "outputs": [],
   "source": []
  },
  {
   "cell_type": "raw",
   "id": "c13d51d3",
   "metadata": {},
   "source": [
    "8. Write a Python program to print odd numbers in a List?"
   ]
  },
  {
   "cell_type": "code",
   "execution_count": 13,
   "id": "2f91b1db",
   "metadata": {},
   "outputs": [
    {
     "name": "stdout",
     "output_type": "stream",
     "text": [
      "Enter the No of elements in a list: 4\n",
      "enter a element: 12\n",
      "enter a element: 11\n",
      "enter a element: 13\n",
      "enter a element: 45\n",
      "The odd Elements in [12, 11, 13, 45] are [11, 13, 45]\n"
     ]
    }
   ],
   "source": [
    "def oddNoInList():\n",
    "    in_ele = int(input('Enter the No of elements in a list: '))\n",
    "    in_list = []\n",
    "    odd_list = []\n",
    "    for ele in range (in_ele):\n",
    "        in_list.append(int(input('enter a element: ')))\n",
    "    for ele in in_list:\n",
    "        if ele % 2 != 0:\n",
    "            odd_list.append(ele)\n",
    "    print(f'The odd Elements in {in_list} are {odd_list}')\n",
    "    \n",
    "oddNoInList()"
   ]
  },
  {
   "cell_type": "code",
   "execution_count": null,
   "id": "dc1b465a",
   "metadata": {},
   "outputs": [],
   "source": []
  },
  {
   "cell_type": "code",
   "execution_count": null,
   "id": "54dd51d0",
   "metadata": {},
   "outputs": [],
   "source": []
  },
  {
   "cell_type": "raw",
   "id": "4d0629a9",
   "metadata": {},
   "source": [
    "9. Write a Python program to Remove empty List from List?"
   ]
  },
  {
   "cell_type": "code",
   "execution_count": 17,
   "id": "c87dace5",
   "metadata": {},
   "outputs": [
    {
     "name": "stdout",
     "output_type": "stream",
     "text": [
      "Enter all elements of the list: [2,4,6,8,20,[],7,9,8]\n",
      "There is an Empty list in [2, 4, 6, 8, 20, [], 7, 9, 8]at Position 5\n",
      "The list after removing[] is [2, 4, 6, 8, 20, 7, 9, 8]\n"
     ]
    }
   ],
   "source": [
    "def checkEmptyList():\n",
    "    in_list = eval(input('Enter all elements of the list: '))\n",
    "    if []in in_list:\n",
    "        print(f'There is an Empty list in {in_list}at Position {in_list.index([])}')\n",
    "        in_list.remove([])\n",
    "        print(f'The list after removing[] is {in_list}')\n",
    "    else:\n",
    "        print(f'There is no [] list in the list {in_list}')\n",
    "        \n",
    "checkEmptyList()"
   ]
  },
  {
   "cell_type": "code",
   "execution_count": null,
   "id": "d541f102",
   "metadata": {},
   "outputs": [],
   "source": []
  },
  {
   "cell_type": "code",
   "execution_count": null,
   "id": "aed5fbb2",
   "metadata": {},
   "outputs": [],
   "source": []
  },
  {
   "cell_type": "raw",
   "id": "0a5ff301",
   "metadata": {},
   "source": [
    "10. Write a Python program to Cloning or Copying a list?"
   ]
  },
  {
   "cell_type": "code",
   "execution_count": 19,
   "id": "15d4b700",
   "metadata": {},
   "outputs": [
    {
     "name": "stdout",
     "output_type": "stream",
     "text": [
      "Enter a list[21,22,23,24,25,26,27,28]\n",
      "[21, 22, 23, 24, 25, 26, 27, 28] 140393057655360\n",
      "[21, 22, 23, 24, 25, 26, 27, 28] 140393057604032\n"
     ]
    }
   ],
   "source": [
    "import copy\n",
    "\n",
    "def cloneList():\n",
    "    in_list = eval(input('Enter a list'))\n",
    "    print(in_list, id(in_list))\n",
    "    cloned_list = in_list.copy()\n",
    "    print(cloned_list,id(cloned_list))\n",
    "    \n",
    "cloneList()"
   ]
  },
  {
   "cell_type": "code",
   "execution_count": null,
   "id": "3dde1a4c",
   "metadata": {},
   "outputs": [],
   "source": []
  },
  {
   "cell_type": "code",
   "execution_count": null,
   "id": "dde76773",
   "metadata": {},
   "outputs": [],
   "source": []
  },
  {
   "cell_type": "raw",
   "id": "57afd095",
   "metadata": {},
   "source": [
    "11. Write a Python program to Count occurrences of an element in a list?"
   ]
  },
  {
   "cell_type": "code",
   "execution_count": 1,
   "id": "c88be727",
   "metadata": {},
   "outputs": [
    {
     "name": "stdout",
     "output_type": "stream",
     "text": [
      "Enter the elements of the list: [2,3,4,4,5,6,4,5,6,5,5,7,8,9]\n",
      "Enter the element to find: 5\n",
      "There are 4 occurences of 5 in [2, 3, 4, 4, 5, 6, 4, 5, 6, 5, 5, 7, 8, 9]\n"
     ]
    }
   ],
   "source": [
    "def checkOccurence():\n",
    "    in_list = eval(input('Enter the elements of the list: '))\n",
    "    in_num = eval(input('Enter the element to find: '))\n",
    "    count = 0\n",
    "    if in_num in in_list:\n",
    "        for ele in in_list:\n",
    "            if ele == in_num:\n",
    "                count = count +1\n",
    "                \n",
    "    print(f'There are {count} occurences of {in_num} in {in_list}')\n",
    "    \n",
    "checkOccurence()"
   ]
  },
  {
   "cell_type": "code",
   "execution_count": null,
   "id": "fe57fd99",
   "metadata": {},
   "outputs": [],
   "source": []
  },
  {
   "cell_type": "code",
   "execution_count": null,
   "id": "b7746c77",
   "metadata": {},
   "outputs": [],
   "source": []
  }
 ],
 "metadata": {
  "kernelspec": {
   "display_name": "Python 3",
   "language": "python",
   "name": "python3"
  },
  "language_info": {
   "codemirror_mode": {
    "name": "ipython",
    "version": 3
   },
   "file_extension": ".py",
   "mimetype": "text/x-python",
   "name": "python",
   "nbconvert_exporter": "python",
   "pygments_lexer": "ipython3",
   "version": "3.8.8"
  }
 },
 "nbformat": 4,
 "nbformat_minor": 5
}
